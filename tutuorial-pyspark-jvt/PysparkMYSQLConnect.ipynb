{
 "cells": [
  {
   "cell_type": "code",
   "execution_count": 1,
   "metadata": {},
   "outputs": [
    {
     "name": "stdout",
     "output_type": "stream",
     "text": [
      "1\n"
     ]
    }
   ],
   "source": [
    "from pyspark import SparkContext, SQLContext\n",
    "import pyspark\n",
    "from pyspark.sql import SQLContext\n",
    "import mysql.connector\n",
    "import json\n",
    "import csv\n",
    "\n",
    "dbConnection = mysql.connector.connect(host=\"localhost\", user=\"root\",passwd=\"jvt123\", database=\"ttd\")\n",
    "\n",
    "sqlQuery = \"SELECT id, email  from users\"\n",
    "\n",
    "cursor = dbConnection.cursor()\n",
    "\n",
    "cursor.execute(sqlQuery)\n",
    "\n",
    "records = cursor.fetchall()\n",
    "\n",
    "print(cursor.rowcount)"
   ]
  },
  {
   "cell_type": "code",
   "execution_count": 2,
   "metadata": {},
   "outputs": [],
   "source": [
    "from os.path import expanduser, join, abspath\n",
    "\n",
    "from pyspark.sql import SparkSession\n",
    "from pyspark.sql import Row\n",
    "\n",
    "# warehouse_location points to the default location for managed databases and tables\n",
    "warehouse_location = abspath('spark-warehouse')\n",
    "\n",
    "spark = SparkSession \\\n",
    "    .builder \\\n",
    "    .appName(\"Python Spark SQL Hive integration example\") \\\n",
    "    .config(\"spark.sql.warehouse.dir\", warehouse_location) \\\n",
    "    .enableHiveSupport() \\\n",
    "    .getOrCreate()"
   ]
  },
  {
   "cell_type": "code",
   "execution_count": 3,
   "metadata": {},
   "outputs": [
    {
     "ename": "NameError",
     "evalue": "name 'StructType' is not defined",
     "output_type": "error",
     "traceback": [
      "\u001b[1;31m---------------------------------------------------------------------------\u001b[0m",
      "\u001b[1;31mNameError\u001b[0m                                 Traceback (most recent call last)",
      "\u001b[1;32m<ipython-input-3-c0ff69f18cd9>\u001b[0m in \u001b[0;36m<module>\u001b[1;34m()\u001b[0m\n\u001b[0;32m      8\u001b[0m \u001b[1;33m\u001b[0m\u001b[0m\n\u001b[0;32m      9\u001b[0m \u001b[1;33m\u001b[0m\u001b[0m\n\u001b[1;32m---> 10\u001b[1;33m cSchema = StructType([StructField(\"x1\", IntegerType()),StructField(\"x2\", IntegerType()),StructField(\"x3\", IntegerType()),StructField(\"x4\", TimestampType()), StructField(\"x5\", IntegerType()), StructField(\"x6\", IntegerType()),\n\u001b[0m\u001b[0;32m     11\u001b[0m                      StructField(\"x7\", IntegerType()), StructField(\"x8\", TimestampType()), StructField(\"x9\", IntegerType()), StructField(\"x10\", StructType.fromJson(schema_dict))])\n\u001b[0;32m     12\u001b[0m \u001b[1;33m\u001b[0m\u001b[0m\n",
      "\u001b[1;31mNameError\u001b[0m: name 'StructType' is not defined"
     ]
    }
   ],
   "source": [
    "\n",
    "schema_dict = {'fields': [\n",
    "    {'metadata': {}, 'name': 'dict', 'nullable': True, 'type': {\"containsNull\": True, \"elementType\":{'fields': [\n",
    "      {'metadata': {}, 'name': 'y1', 'nullable': True, 'type': 'integer'},\n",
    "      {'metadata': {}, 'name': 'y2', 'nullable': True, 'type': 'integer'}\n",
    "    ],\"type\": 'struct'}, \"type\": 'array'}}\n",
    "], 'type': 'struct'}\n",
    "\n",
    "\n",
    "cSchema = StructType([StructField(\"x1\", IntegerType()),StructField(\"x2\", IntegerType()),StructField(\"x3\", IntegerType()),StructField(\"x4\", TimestampType()), StructField(\"x5\", IntegerType()), StructField(\"x6\", IntegerType()),\n",
    "                     StructField(\"x7\", IntegerType()), StructField(\"x8\", TimestampType()), StructField(\"x9\", IntegerType()), StructField(\"x10\", StructType.fromJson(schema_dict))])\n",
    "\n",
    "df = spark.createDataFrame(parsedList,schema=cSchema)"
   ]
  }
 ],
 "metadata": {
  "kernelspec": {
   "display_name": "Python 3",
   "language": "python",
   "name": "python3"
  },
  "language_info": {
   "codemirror_mode": {
    "name": "ipython",
    "version": 3
   },
   "file_extension": ".py",
   "mimetype": "text/x-python",
   "name": "python",
   "nbconvert_exporter": "python",
   "pygments_lexer": "ipython3",
   "version": "3.6.5"
  }
 },
 "nbformat": 4,
 "nbformat_minor": 2
}
