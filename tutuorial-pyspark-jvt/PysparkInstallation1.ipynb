{
 "cells": [
  {
   "cell_type": "code",
   "execution_count": 4,
   "metadata": {},
   "outputs": [],
   "source": [
    "from pyspark import SparkContext, SparkConf\n"
   ]
  },
  {
   "cell_type": "code",
   "execution_count": 5,
   "metadata": {},
   "outputs": [
    {
     "data": {
      "text/plain": [
       "pyspark.context.SparkContext"
      ]
     },
     "execution_count": 5,
     "metadata": {},
     "output_type": "execute_result"
    }
   ],
   "source": [
    "SparkContext"
   ]
  },
  {
   "cell_type": "code",
   "execution_count": 6,
   "metadata": {},
   "outputs": [],
   "source": [
    "#C:\\spark\\spark-3.0.1-bin-hadoop2.7\\python\\pyspark"
   ]
  },
  {
   "cell_type": "code",
   "execution_count": 7,
   "metadata": {},
   "outputs": [],
   "source": [
    "import findspark"
   ]
  },
  {
   "cell_type": "code",
   "execution_count": 8,
   "metadata": {},
   "outputs": [
    {
     "data": {
      "text/plain": [
       "<module 'findspark' from 'C:\\\\Users\\\\jvt\\\\Anaconda3\\\\lib\\\\site-packages\\\\findspark.py'>"
      ]
     },
     "execution_count": 8,
     "metadata": {},
     "output_type": "execute_result"
    }
   ],
   "source": [
    "findspark"
   ]
  },
  {
   "cell_type": "code",
   "execution_count": 9,
   "metadata": {},
   "outputs": [
    {
     "data": {
      "text/plain": [
       "'C:\\\\spark\\\\spark-3.0.1-bin-hadoop2.7'"
      ]
     },
     "execution_count": 9,
     "metadata": {},
     "output_type": "execute_result"
    }
   ],
   "source": [
    "import findspark\n",
    "\n",
    "findspark.init()\n",
    "findspark.find()\n",
    "\n",
    "import pyspark\n",
    "findspark.find()"
   ]
  },
  {
   "cell_type": "code",
   "execution_count": 11,
   "metadata": {},
   "outputs": [
    {
     "data": {
      "text/plain": [
       "environ({'ALLUSERSPROFILE': 'C:\\\\ProgramData', 'APPDATA': 'C:\\\\Users\\\\jvt\\\\AppData\\\\Roaming', 'COMMONPROGRAMFILES': 'C:\\\\Program Files\\\\Common Files', 'COMMONPROGRAMFILES(X86)': 'C:\\\\Program Files (x86)\\\\Common Files', 'COMMONPROGRAMW6432': 'C:\\\\Program Files\\\\Common Files', 'COMPUTERNAME': 'DESKTOP-CGB286I', 'COMSPEC': 'C:\\\\Windows\\\\system32\\\\cmd.exe', 'FPS_BROWSER_APP_PROFILE_STRING': 'Internet Explorer', 'FPS_BROWSER_USER_PROFILE_STRING': 'Default', 'GOPATH': 'C:\\\\Users\\\\jvt\\\\go', 'GOROOT': 'C:\\\\Go\\\\', 'HADOOP_HOME': 'C:\\\\spark\\\\spark-3.0.1-bin-hadoop2.7\\\\hadoop', 'HOMEDRIVE': 'C:', 'HOMEPATH': '\\\\Users\\\\jvt', 'INCLUDE': 'C:\\\\Program Files (x86)\\\\Microsoft Visual Studio\\\\VC98\\\\atl\\\\include;C:\\\\Program Files (x86)\\\\Microsoft Visual Studio\\\\VC98\\\\mfc\\\\include;C:\\\\Program Files (x86)\\\\Microsoft Visual Studio\\\\VC98\\\\include', 'LIB': 'C:\\\\Program Files (x86)\\\\Microsoft Visual Studio\\\\VC98\\\\mfc\\\\lib;C:\\\\Program Files (x86)\\\\Microsoft Visual Studio\\\\VC98\\\\lib', 'LOCALAPPDATA': 'C:\\\\Users\\\\jvt\\\\AppData\\\\Local', 'LOGONSERVER': '\\\\\\\\DESKTOP-CGB286I', 'MSDEVDIR': 'C:\\\\Program Files (x86)\\\\Microsoft Visual Studio\\\\Common\\\\MSDev98', 'MYSQLCONNECTOR_ASSEMBLIESPATH': 'C:\\\\Program Files (x86)\\\\MySQL\\\\Connector NET 6.10\\\\Assemblies\\\\v4.5', 'NUMBER_OF_PROCESSORS': '4', 'ONEDRIVE': 'C:\\\\Users\\\\jvt\\\\OneDrive', 'OS': 'Windows_NT', 'PATH': 'C:\\\\Users\\\\jvt\\\\Anaconda3\\\\DLLs;C:\\\\Users\\\\jvt\\\\Anaconda3;C:\\\\Users\\\\jvt\\\\Anaconda3\\\\Library\\\\mingw-w64\\\\bin;C:\\\\Users\\\\jvt\\\\Anaconda3\\\\Library\\\\usr\\\\bin;C:\\\\Users\\\\jvt\\\\Anaconda3\\\\Library\\\\bin;C:\\\\Users\\\\jvt\\\\Anaconda3\\\\Scripts;C:\\\\Program Files (x86)\\\\Common Files\\\\Oracle\\\\Java\\\\javapath;C:\\\\Windows\\\\system32;C:\\\\Windows;C:\\\\Windows\\\\System32\\\\Wbem;C:\\\\Windows\\\\System32\\\\WindowsPowerShell\\\\v1.0\\\\;C:\\\\Program Files\\\\MySQL\\\\MySQL Utilities 1.6\\\\;C:\\\\Program Files\\\\dotnet\\\\;C:\\\\Program Files\\\\Microsoft SQL Server\\\\130\\\\Tools\\\\Binn\\\\;C:\\\\Program Files\\\\Git\\\\cmd;C:\\\\Program Files\\\\erl10.1\\\\bin;C:\\\\Program Files (x86)\\\\Elixir\\\\bin;C:\\\\Windows\\\\system32\\\\config\\\\systemprofile\\\\.mix\\\\escripts;C:\\\\spark\\\\spark-3.0.1-bin-hadoop2.7\\\\bin;C:\\\\spark\\\\spark-3.0.1-bin-hadoop2.7\\\\hadoop;C:\\\\Go\\\\bin;C:\\\\Ruby26-x64\\\\bin;C:\\\\Program Files (x86)\\\\Elm Platform\\\\0.18\\\\bin;C:\\\\Users\\\\jvt\\\\Anaconda3;C:\\\\Users\\\\jvt\\\\Anaconda3\\\\Library\\\\mingw-w64\\\\bin;C:\\\\Users\\\\jvt\\\\Anaconda3\\\\Library\\\\usr\\\\bin;C:\\\\Users\\\\jvt\\\\Anaconda3\\\\Library\\\\bin;C:\\\\Users\\\\jvt\\\\Anaconda3\\\\Scripts;C:\\\\Program Files (x86)\\\\Microsoft Visual Studio\\\\Common\\\\MSDev98\\\\Bin;C:\\\\Program Files (x86)\\\\Microsoft Visual Studio\\\\Common\\\\Tools;C:\\\\Program Files (x86)\\\\Microsoft Visual Studio\\\\VC98\\\\bin;C:\\\\Users\\\\jvt\\\\AppData\\\\Local\\\\Programs\\\\Python\\\\Python36\\\\Scripts\\\\;C:\\\\Users\\\\jvt\\\\AppData\\\\Local\\\\Programs\\\\Python\\\\Python36\\\\;C:\\\\Users\\\\jvt\\\\AppData\\\\Local\\\\Microsoft\\\\WindowsApps;C:\\\\Users\\\\jvt\\\\AppData\\\\Local\\\\Programs\\\\Microsoft VS Code\\\\bin;C:\\\\Users\\\\jvt\\\\AppData\\\\Local\\\\GitHubDesktop\\\\bin;C:\\\\spark\\\\spark-3.0.1-bin-hadoop2.7\\\\bin;C:\\\\spark\\\\spark-3.0.1-bin-hadoop2.7\\\\hadoop\\\\bin;C:\\\\Users\\\\jvt\\\\go\\\\bin;', 'PATHEXT': '.COM;.EXE;.BAT;.CMD;.VBS;.VBE;.JS;.JSE;.WSF;.WSH;.MSC;.RB;.RBW', 'PROCESSOR_ARCHITECTURE': 'AMD64', 'PROCESSOR_IDENTIFIER': 'Intel64 Family 6 Model 42 Stepping 7, GenuineIntel', 'PROCESSOR_LEVEL': '6', 'PROCESSOR_REVISION': '2a07', 'PROG27B48B2C054': '1', 'PROGRAMDATA': 'C:\\\\ProgramData', 'PROGRAMFILES': 'C:\\\\Program Files', 'PROGRAMFILES(X86)': 'C:\\\\Program Files (x86)', 'PROGRAMW6432': 'C:\\\\Program Files', 'PSMODULEPATH': 'C:\\\\Program Files\\\\WindowsPowerShell\\\\Modules;C:\\\\Windows\\\\system32\\\\WindowsPowerShell\\\\v1.0\\\\Modules', 'PUBLIC': 'C:\\\\Users\\\\Public', 'RUBYOPT': '-Eutf-8', 'SESSIONNAME': 'Console', 'SPARK_HOME': 'C:\\\\spark\\\\spark-3.0.1-bin-hadoop2.7', 'SYSTEMDRIVE': 'C:', 'SYSTEMROOT': 'C:\\\\Windows', 'TEMP': 'C:\\\\Users\\\\jvt\\\\AppData\\\\Local\\\\Temp', 'TMP': 'C:\\\\Users\\\\jvt\\\\AppData\\\\Local\\\\Temp', 'USERDOMAIN': 'DESKTOP-CGB286I', 'USERDOMAIN_ROAMINGPROFILE': 'DESKTOP-CGB286I', 'USERNAME': 'jvt', 'USERPROFILE': 'C:\\\\Users\\\\jvt', 'VBOX_MSI_INSTALL_PATH': 'C:\\\\Program Files\\\\Oracle\\\\VirtualBox\\\\', 'VS150COMCOMNTOOLS': 'C:\\\\Program Files (x86)\\\\Microsoft Visual Studio\\\\2017\\\\Community\\\\Common7\\\\Tools\\\\', 'WINDIR': 'C:\\\\Windows', 'CONDA_PREFIX': 'C:\\\\Users\\\\jvt\\\\Anaconda3', 'JPY_INTERRUPT_EVENT': '1300', 'IPY_INTERRUPT_EVENT': '1300', 'JPY_PARENT_PID': '1116', 'TERM': 'xterm-color', 'CLICOLOR': '1', 'PAGER': 'cat', 'GIT_PAGER': 'cat', 'MPLBACKEND': 'module://ipykernel.pylab.backend_inline', 'PYSPARK_PYTHON': 'C:\\\\Users\\\\jvt\\\\Anaconda3\\\\python.exe'})"
      ]
     },
     "execution_count": 11,
     "metadata": {},
     "output_type": "execute_result"
    }
   ],
   "source": [
    "import os \n",
    "os.environ"
   ]
  },
  {
   "cell_type": "code",
   "execution_count": 7,
   "metadata": {},
   "outputs": [
    {
     "name": "stdout",
     "output_type": "stream",
     "text": [
      "C:\\spark\\spark-3.0.1-bin-hadoop2.7\n",
      "C:\\Users\\jvt\\Anaconda3\\DLLs;C:\\Users\\jvt\\Anaconda3;C:\\Users\\jvt\\Anaconda3\\Library\\mingw-w64\\bin;C:\\Users\\jvt\\Anaconda3\\Library\\usr\\bin;C:\\Users\\jvt\\Anaconda3\\Library\\bin;C:\\Users\\jvt\\Anaconda3\\Scripts;C:\\Program Files (x86)\\Common Files\\Oracle\\Java\\javapath;C:\\Windows\\system32;C:\\Windows;C:\\Windows\\System32\\Wbem;C:\\Windows\\System32\\WindowsPowerShell\\v1.0\\;C:\\Program Files\\MySQL\\MySQL Utilities 1.6\\;C:\\Program Files\\dotnet\\;C:\\Program Files\\Microsoft SQL Server\\130\\Tools\\Binn\\;C:\\Program Files\\Git\\cmd;C:\\Program Files\\erl10.1\\bin;C:\\Program Files (x86)\\Elixir\\bin;C:\\Windows\\system32\\config\\systemprofile\\.mix\\escripts;C:\\spark\\spark-3.0.1-bin-hadoop2.7\\bin;C:\\spark\\spark-3.0.1-bin-hadoop2.7\\hadoop;C:\\Go\\bin;C:\\Ruby26-x64\\bin;C:\\Program Files (x86)\\Elm Platform\\0.18\\bin;C:\\Users\\jvt\\Anaconda3;C:\\Users\\jvt\\Anaconda3\\Library\\mingw-w64\\bin;C:\\Users\\jvt\\Anaconda3\\Library\\usr\\bin;C:\\Users\\jvt\\Anaconda3\\Library\\bin;C:\\Users\\jvt\\Anaconda3\\Scripts;C:\\Program Files (x86)\\Microsoft Visual Studio\\Common\\MSDev98\\Bin;C:\\Program Files (x86)\\Microsoft Visual Studio\\Common\\Tools;C:\\Program Files (x86)\\Microsoft Visual Studio\\VC98\\bin;C:\\Users\\jvt\\AppData\\Local\\Programs\\Python\\Python36\\Scripts\\;C:\\Users\\jvt\\AppData\\Local\\Programs\\Python\\Python36\\;C:\\Users\\jvt\\AppData\\Local\\Microsoft\\WindowsApps;C:\\Users\\jvt\\AppData\\Local\\Programs\\Microsoft VS Code\\bin;C:\\Users\\jvt\\AppData\\Local\\GitHubDesktop\\bin;C:\\spark\\spark-3.0.1-bin-hadoop2.7\\bin;C:\\spark\\spark-3.0.1-bin-hadoop2.7\\hadoop\\bin;C:\\Users\\jvt\\go\\bin;\n"
     ]
    }
   ],
   "source": [
    "import os\n",
    "print(os.environ['SPARK_HOME'])\n",
    "print(os.environ['PATH'])"
   ]
  },
  {
   "cell_type": "code",
   "execution_count": null,
   "metadata": {},
   "outputs": [],
   "source": []
  }
 ],
 "metadata": {
  "kernelspec": {
   "display_name": "Python 3",
   "language": "python",
   "name": "python3"
  },
  "language_info": {
   "codemirror_mode": {
    "name": "ipython",
    "version": 3
   },
   "file_extension": ".py",
   "mimetype": "text/x-python",
   "name": "python",
   "nbconvert_exporter": "python",
   "pygments_lexer": "ipython3",
   "version": "3.6.5"
  }
 },
 "nbformat": 4,
 "nbformat_minor": 2
}
