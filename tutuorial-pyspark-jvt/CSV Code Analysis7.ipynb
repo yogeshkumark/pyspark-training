{
 "cells": [
  {
   "cell_type": "code",
   "execution_count": 2,
   "metadata": {},
   "outputs": [
    {
     "data": {
      "text/plain": [
       "{'c': 1, 'C++': 2}"
      ]
     },
     "execution_count": 2,
     "metadata": {},
     "output_type": "execute_result"
    }
   ],
   "source": [
    "obj= (1,2,3)\n",
    " \n",
    "obj1= [ 6,7,8]\n",
    "\n",
    "dt= { \"c\":1 , \"C++\":2 }\n",
    "\n",
    "obj\n",
    "obj1\n",
    "dt"
   ]
  },
  {
   "cell_type": "code",
   "execution_count": 3,
   "metadata": {},
   "outputs": [
    {
     "data": {
      "text/plain": [
       "[1, 2, 3, 4]"
      ]
     },
     "execution_count": 3,
     "metadata": {},
     "output_type": "execute_result"
    }
   ],
   "source": [
    "lit=[ 1.2,2,3.4,4]\n",
    "\n",
    "obj= {\"year\":[1,2,3,4] ,\"Month\":[4.4,5.6,6.7],\"Make\":[\"c\",\"c++\",\"java\"] }\n",
    "\n",
    "obj.values()\n",
    "\n",
    "obj.keys()\n",
    "\n",
    "obj.get(\"year\")\n",
    " \n",
    "obj.pop(\"Make\")\n",
    "\n",
    "obj[\"year\"]\n"
   ]
  },
  {
   "cell_type": "code",
   "execution_count": 4,
   "metadata": {},
   "outputs": [],
   "source": [
    "obj=989898\n",
    "\n",
    "import sys \n",
    "\n",
    "sys.getrefcount(obj)\n",
    "\n",
    "del obj\n"
   ]
  },
  {
   "cell_type": "code",
   "execution_count": 6,
   "metadata": {},
   "outputs": [
    {
     "name": "stdout",
     "output_type": "stream",
     "text": [
      "3\n",
      "1903451318832\n"
     ]
    }
   ],
   "source": [
    "obj = 19898\n",
    "\n",
    "obj1 = 19898\n",
    "\n",
    "print(sys.getrefcount(obj))\n",
    "\n",
    "print( id(obj) )\n",
    "\n"
   ]
  },
  {
   "cell_type": "code",
   "execution_count": 29,
   "metadata": {},
   "outputs": [
    {
     "data": {
      "text/plain": [
       "1584098368"
      ]
     },
     "execution_count": 29,
     "metadata": {},
     "output_type": "execute_result"
    }
   ],
   "source": [
    "obj1=1\n",
    "\n",
    "id(obj1)"
   ]
  },
  {
   "cell_type": "code",
   "execution_count": 7,
   "metadata": {},
   "outputs": [],
   "source": [
    "import pyspark\n",
    "\n",
    "from pyspark.sql import SparkSession\n",
    "\n",
    "from pyspark.sql.functions import *\n",
    "\n",
    "spark = SparkSession.builder.getOrCreate()"
   ]
  },
  {
   "cell_type": "code",
   "execution_count": 8,
   "metadata": {},
   "outputs": [
    {
     "data": {
      "text/plain": [
       "DataFrame[Year: int, Month: int, Make: string, Model: string, Quantity: int, Pct: double]"
      ]
     },
     "execution_count": 8,
     "metadata": {},
     "output_type": "execute_result"
    }
   ],
   "source": [
    "salesByModel = spark.read.csv('E:\\\\norway_new_car_sales_by_model.csv', header = True, inferSchema = True)\n",
    "\n",
    "salesByModel"
   ]
  },
  {
   "cell_type": "code",
   "execution_count": 9,
   "metadata": {},
   "outputs": [],
   "source": [
    "salesByMake = spark.read.format('csv') \\\n",
    "                        .option(\"inferSchema\", True) \\\n",
    "                        .option(\"header\", True) \\\n",
    "                        .option(\"sep\", ',') \\\n",
    "                .load('E:\\\\norway_new_car_sales_by_model.csv')"
   ]
  },
  {
   "cell_type": "code",
   "execution_count": 10,
   "metadata": {},
   "outputs": [],
   "source": [
    "# show(): displays the data frame values as it is.\n",
    "\n",
    "# viz. ‘4’ tells to show only the top 4 rows, ‘False’ tells to show the complete value inside the cells."
   ]
  },
  {
   "cell_type": "code",
   "execution_count": 11,
   "metadata": {},
   "outputs": [
    {
     "data": {
      "text/plain": [
       "DataFrame[Year: int, Month: int, Make: string, Model: string, Quantity: int, Pct: double]"
      ]
     },
     "execution_count": 11,
     "metadata": {},
     "output_type": "execute_result"
    }
   ],
   "source": [
    "salesByModel"
   ]
  },
  {
   "cell_type": "code",
   "execution_count": 12,
   "metadata": {},
   "outputs": [
    {
     "name": "stdout",
     "output_type": "stream",
     "text": [
      "+----+-----+-----------+-----------------+--------+----+\n",
      "|Year|Month|       Make|            Model|Quantity| Pct|\n",
      "+----+-----+-----------+-----------------+--------+----+\n",
      "|2007|    1|Volkswagen |Volkswagen Passat|    1267|10.0|\n",
      "|2007|    1|    Toyota |      Toyota Rav4|     819| 6.5|\n",
      "|2007|    1|    Toyota |   Toyota Avensis|     787| 6.2|\n",
      "|2007|    1|Volkswagen |  Volkswagen Golf|     720| 5.7|\n",
      "|2007|    1|    Toyota |   Toyota Corolla|     691| 5.4|\n",
      "|2007|    1|   Peugeot |      Peugeot 307|     481| 3.8|\n",
      "|2007|    1|     Skoda |    Skoda Octavia|     481| 3.8|\n",
      "|2007|    1|    Toyota |     Toyota Yaris|     402| 3.2|\n",
      "|2007|    1|      Ford |       Ford Focus|     400| 3.2|\n",
      "|2007|    1|     Volvo |        Volvo V50|     346| 2.7|\n",
      "|2007|    1|   Peugeot |      Peugeot 207|     320| 2.5|\n",
      "|2007|    1|      Audi |          Audi A4|     269| 2.1|\n",
      "|2007|    1|Volkswagen |Volkswagen Touran|     235| 1.9|\n",
      "|2007|    1|      Ford |       Ford S-Max|     231| 1.8|\n",
      "|2007|    1|      Opel |       Opel Astra|     218| 1.7|\n",
      "|2007|    1|Volkswagen |  Volkswagen Polo|     218| 1.7|\n",
      "|2007|    1|      Audi |          Audi A3|     202| 1.6|\n",
      "|2007|    1|       BMW |      BMW 3-serie|     183| 1.4|\n",
      "|2007|    1|      Opel |      Opel Vectra|     178| 1.4|\n",
      "|2007|    1|     Honda |       Honda CR-V|     172| 1.4|\n",
      "+----+-----+-----------+-----------------+--------+----+\n",
      "only showing top 20 rows\n",
      "\n",
      "+----+-----+-----------+-----------------+--------+----+\n",
      "|Year|Month|       Make|            Model|Quantity| Pct|\n",
      "+----+-----+-----------+-----------------+--------+----+\n",
      "|2007|    1|Volkswagen |Volkswagen Passat|    1267|10.0|\n",
      "|2007|    1|    Toyota |      Toyota Rav4|     819| 6.5|\n",
      "|2007|    1|    Toyota |   Toyota Avensis|     787| 6.2|\n",
      "|2007|    1|Volkswagen |  Volkswagen Golf|     720| 5.7|\n",
      "+----+-----+-----------+-----------------+--------+----+\n",
      "only showing top 4 rows\n",
      "\n",
      "+----+-----+-----------+-----------------+--------+----+\n",
      "|Year|Month|Make       |Model            |Quantity|Pct |\n",
      "+----+-----+-----------+-----------------+--------+----+\n",
      "|2007|1    |Volkswagen |Volkswagen Passat|1267    |10.0|\n",
      "|2007|1    |Toyota     |Toyota Rav4      |819     |6.5 |\n",
      "|2007|1    |Toyota     |Toyota Avensis   |787     |6.2 |\n",
      "|2007|1    |Volkswagen |Volkswagen Golf  |720     |5.7 |\n",
      "+----+-----+-----------+-----------------+--------+----+\n",
      "only showing top 4 rows\n",
      "\n"
     ]
    }
   ],
   "source": [
    "salesByMake.show()\n",
    "\n",
    "salesByMake.show(4)\n",
    "\n",
    "salesByMake.show(4, False)"
   ]
  },
  {
   "cell_type": "code",
   "execution_count": 13,
   "metadata": {},
   "outputs": [
    {
     "data": {
      "text/plain": [
       "Row(Year=2007, Month=1, Make='Volkswagen ', Model='Volkswagen Passat', Quantity=1267, Pct=10.0)"
      ]
     },
     "execution_count": 13,
     "metadata": {},
     "output_type": "execute_result"
    }
   ],
   "source": [
    "salesByMake.head()\n",
    "\n"
   ]
  },
  {
   "cell_type": "code",
   "execution_count": 12,
   "metadata": {},
   "outputs": [],
   "source": [
    "# printSchema(): prints the column names along with their data type and null indicator."
   ]
  },
  {
   "cell_type": "code",
   "execution_count": 14,
   "metadata": {},
   "outputs": [
    {
     "name": "stdout",
     "output_type": "stream",
     "text": [
      "root\n",
      " |-- Year: integer (nullable = true)\n",
      " |-- Month: integer (nullable = true)\n",
      " |-- Make: string (nullable = true)\n",
      " |-- Model: string (nullable = true)\n",
      " |-- Quantity: integer (nullable = true)\n",
      " |-- Pct: double (nullable = true)\n",
      "\n"
     ]
    }
   ],
   "source": [
    "salesByMake.printSchema()"
   ]
  },
  {
   "cell_type": "code",
   "execution_count": 15,
   "metadata": {},
   "outputs": [
    {
     "data": {
      "text/plain": [
       "['Year', 'Month', 'Make', 'Model', 'Quantity', 'Pct']"
      ]
     },
     "execution_count": 15,
     "metadata": {},
     "output_type": "execute_result"
    }
   ],
   "source": [
    "#Store the list of column names in a variable:\n",
    "salesByMake.columns"
   ]
  },
  {
   "cell_type": "code",
   "execution_count": 16,
   "metadata": {},
   "outputs": [
    {
     "data": {
      "text/plain": [
       "'Year'"
      ]
     },
     "execution_count": 16,
     "metadata": {},
     "output_type": "execute_result"
    }
   ],
   "source": [
    "salesByMake.columns[0]"
   ]
  },
  {
   "cell_type": "code",
   "execution_count": 17,
   "metadata": {},
   "outputs": [
    {
     "data": {
      "text/plain": [
       "2694"
      ]
     },
     "execution_count": 17,
     "metadata": {},
     "output_type": "execute_result"
    }
   ],
   "source": [
    "salesByMake.count()  #get the count of rows"
   ]
  },
  {
   "cell_type": "code",
   "execution_count": 18,
   "metadata": {},
   "outputs": [
    {
     "name": "stdout",
     "output_type": "stream",
     "text": [
      "+----+-----------+-----------------+--------+\n",
      "|Year|       Make|            Model|Quantity|\n",
      "+----+-----------+-----------------+--------+\n",
      "|2007|Volkswagen |Volkswagen Passat|    1267|\n",
      "|2007|    Toyota |      Toyota Rav4|     819|\n",
      "|2007|    Toyota |   Toyota Avensis|     787|\n",
      "+----+-----------+-----------------+--------+\n",
      "only showing top 3 rows\n",
      "\n"
     ]
    }
   ],
   "source": [
    "df = salesByModel.select('Year', 'Make', 'Model', 'Quantity')\n",
    "\n",
    "df.show(3)"
   ]
  },
  {
   "cell_type": "code",
   "execution_count": 18,
   "metadata": {},
   "outputs": [],
   "source": [
    "# Change the name of existing columns(.withColumnRenamed())"
   ]
  },
  {
   "cell_type": "code",
   "execution_count": 20,
   "metadata": {},
   "outputs": [],
   "source": [
    "# this imports sql functions that are extremely useful while dealing # with dataframes.\n",
    "\n",
    "from pyspark.sql.functions import *\n",
    "\n",
    "\"\"\"salesByModel.withColumnRenamed('OldColumnName1', 'NewColumnName1') \\\n",
    "            .withColumnRenamed('OldColumnName2', 'NewColumnName2') \\\n",
    "            .withColumnRenamed('OldColumnName3', 'NewColumnName3')\"\"\"\n",
    "\n",
    "# Using alias is faster than using withColumnRenamed() function. So avoid to many withColumnRenamed\n",
    "\n",
    "df2 =salesByModel.select(col('Year').alias('Newyear'), col('Make').alias('umake'))\n"
   ]
  },
  {
   "cell_type": "code",
   "execution_count": 21,
   "metadata": {},
   "outputs": [
    {
     "name": "stdout",
     "output_type": "stream",
     "text": [
      "+-------+-----------+\n",
      "|Newyear|      umake|\n",
      "+-------+-----------+\n",
      "|   2007|Volkswagen |\n",
      "|   2007|    Toyota |\n",
      "|   2007|    Toyota |\n",
      "|   2007|Volkswagen |\n",
      "|   2007|    Toyota |\n",
      "|   2007|   Peugeot |\n",
      "|   2007|     Skoda |\n",
      "|   2007|    Toyota |\n",
      "|   2007|      Ford |\n",
      "|   2007|     Volvo |\n",
      "|   2007|   Peugeot |\n",
      "|   2007|      Audi |\n",
      "|   2007|Volkswagen |\n",
      "|   2007|      Ford |\n",
      "|   2007|      Opel |\n",
      "|   2007|Volkswagen |\n",
      "|   2007|      Audi |\n",
      "|   2007|       BMW |\n",
      "|   2007|      Opel |\n",
      "|   2007|     Honda |\n",
      "+-------+-----------+\n",
      "only showing top 20 rows\n",
      "\n"
     ]
    }
   ],
   "source": [
    "df2.show()"
   ]
  },
  {
   "cell_type": "code",
   "execution_count": 22,
   "metadata": {},
   "outputs": [
    {
     "data": {
      "text/plain": [
       "Column<b'CASE WHEN (Quantity >= 1000) THEN High ELSE CASE WHEN ((Quantity >= 500) AND (Quantity < 1000)) THEN Medium ELSE Low END END'>"
      ]
     },
     "execution_count": 22,
     "metadata": {},
     "output_type": "execute_result"
    }
   ],
   "source": [
    "# Add a new column to the data frame:\n",
    "\n",
    "condition = when(col('Quantity')>=1000, \"High\").otherwise(when((col('Quantity')>=500) & (col('Quantity')<1000), \"Medium\").otherwise(\"Low\"))\n",
    "\n",
    "condition\n"
   ]
  },
  {
   "cell_type": "code",
   "execution_count": 23,
   "metadata": {},
   "outputs": [
    {
     "name": "stdout",
     "output_type": "stream",
     "text": [
      "+----+-----+-----------+-----------------+--------+----+-------+-------+\n",
      "|Year|Month|       Make|            Model|Quantity| Pct|NewCol1|NewCol2|\n",
      "+----+-----+-----------+-----------------+--------+----+-------+-------+\n",
      "|2007|    1|Volkswagen |Volkswagen Passat|    1267|10.0|   true|   High|\n",
      "|2007|    1|    Toyota |      Toyota Rav4|     819| 6.5|  false| Medium|\n",
      "|2007|    1|    Toyota |   Toyota Avensis|     787| 6.2|  false| Medium|\n",
      "|2007|    1|Volkswagen |  Volkswagen Golf|     720| 5.7|  false| Medium|\n",
      "|2007|    1|    Toyota |   Toyota Corolla|     691| 5.4|  false| Medium|\n",
      "|2007|    1|   Peugeot |      Peugeot 307|     481| 3.8|  false|    Low|\n",
      "|2007|    1|     Skoda |    Skoda Octavia|     481| 3.8|  false|    Low|\n",
      "|2007|    1|    Toyota |     Toyota Yaris|     402| 3.2|  false|    Low|\n",
      "|2007|    1|      Ford |       Ford Focus|     400| 3.2|  false|    Low|\n",
      "|2007|    1|     Volvo |        Volvo V50|     346| 2.7|  false|    Low|\n",
      "|2007|    1|   Peugeot |      Peugeot 207|     320| 2.5|  false|    Low|\n",
      "|2007|    1|      Audi |          Audi A4|     269| 2.1|  false|    Low|\n",
      "|2007|    1|Volkswagen |Volkswagen Touran|     235| 1.9|  false|    Low|\n",
      "|2007|    1|      Ford |       Ford S-Max|     231| 1.8|  false|    Low|\n",
      "|2007|    1|      Opel |       Opel Astra|     218| 1.7|  false|    Low|\n",
      "|2007|    1|Volkswagen |  Volkswagen Polo|     218| 1.7|  false|    Low|\n",
      "|2007|    1|      Audi |          Audi A3|     202| 1.6|  false|    Low|\n",
      "|2007|    1|       BMW |      BMW 3-serie|     183| 1.4|  false|    Low|\n",
      "|2007|    1|      Opel |      Opel Vectra|     178| 1.4|  false|    Low|\n",
      "|2007|    1|     Honda |       Honda CR-V|     172| 1.4|  false|    Low|\n",
      "+----+-----+-----------+-----------------+--------+----+-------+-------+\n",
      "only showing top 20 rows\n",
      "\n"
     ]
    }
   ],
   "source": [
    "salesByModel.withColumn('NewCol1', col('Quantity')>1000 ).withColumn('NewCol2', condition).show()"
   ]
  },
  {
   "cell_type": "code",
   "execution_count": 34,
   "metadata": {},
   "outputs": [
    {
     "name": "stdout",
     "output_type": "stream",
     "text": [
      "+----+-----------+-----------------+--------+\n",
      "|Year|       Make|            Model|Quantity|\n",
      "+----+-----------+-----------------+--------+\n",
      "|2007|Volkswagen |Volkswagen Passat|    1267|\n",
      "|2007|Volkswagen |  Volkswagen Golf|     720|\n",
      "|2007|Volkswagen |Volkswagen Touran|     235|\n",
      "|2007|Volkswagen |  Volkswagen Polo|     218|\n",
      "|2007|Volkswagen |Volkswagen Passat|     602|\n",
      "|2007|Volkswagen |  Volkswagen Golf|     442|\n",
      "|2007|Volkswagen |Volkswagen Touran|     189|\n",
      "|2007|Volkswagen |  Volkswagen Polo|     162|\n",
      "|2007|Volkswagen |Volkswagen Passat|     521|\n",
      "|2007|Volkswagen |  Volkswagen Golf|     402|\n",
      "|2007|Volkswagen |  Volkswagen Polo|     197|\n",
      "|2007|Volkswagen |Volkswagen Touran|     194|\n",
      "|2007|Volkswagen |Volkswagen Passat|     375|\n",
      "|2007|Volkswagen |  Volkswagen Golf|     342|\n",
      "|2007|Volkswagen |Volkswagen Touran|     229|\n",
      "|2007|Volkswagen |  Volkswagen Polo|     167|\n",
      "|2007|Volkswagen |  Volkswagen Golf|     669|\n",
      "|2007|Volkswagen |Volkswagen Passat|     607|\n",
      "|2007|Volkswagen |Volkswagen Touran|     262|\n",
      "|2007|Volkswagen |  Volkswagen Polo|     258|\n",
      "+----+-----------+-----------------+--------+\n",
      "only showing top 20 rows\n",
      "\n"
     ]
    }
   ],
   "source": [
    "df.filter(trim(col('Make')) == 'Volkswagen').show()"
   ]
  },
  {
   "cell_type": "code",
   "execution_count": 35,
   "metadata": {},
   "outputs": [
    {
     "name": "stdout",
     "output_type": "stream",
     "text": [
      "+----+-------+--------------+--------+\n",
      "|Year|   Make|         Model|Quantity|\n",
      "+----+-------+--------------+--------+\n",
      "|2007|Toyota |   Toyota Rav4|     819|\n",
      "|2007|Toyota |Toyota Avensis|     787|\n",
      "+----+-------+--------------+--------+\n",
      "only showing top 2 rows\n",
      "\n"
     ]
    }
   ],
   "source": [
    "df.filter(trim(df.Make) == 'Toyota').show(2)"
   ]
  },
  {
   "cell_type": "code",
   "execution_count": 33,
   "metadata": {},
   "outputs": [],
   "source": [
    "#groupBy & orderBy: you should groupBy all the items and then apply aggregation functions such as min, max, sum, avg, count etc.\n",
    "#Note: orderBy and Sort do the same thing."
   ]
  },
  {
   "cell_type": "code",
   "execution_count": 34,
   "metadata": {},
   "outputs": [
    {
     "name": "stdout",
     "output_type": "stream",
     "text": [
      "+---------------+-----------+------------------+\n",
      "|           Make|SumQuantity|            AvgPct|\n",
      "+---------------+-----------+------------------+\n",
      "|       Citroen |        129|  1.07625563157017|\n",
      "|�Mercedes-Benz |        184|  1.53180153180153|\n",
      "|          Saab |       1025|               2.0|\n",
      "|        Subaru |       1713| 1.750612784170052|\n",
      "|       Hyundai |       2254|1.2580827839895132|\n",
      "|       Renault |       2820|1.3218679361421966|\n",
      "|           Kia |       3096|1.1827709295905884|\n",
      "|        Suzuki |       5431|1.3629232244177336|\n",
      "|         Honda |       8197|1.8664246525408978|\n",
      "|          Opel |       8990|1.4972583342311718|\n",
      "| Mercedes-Benz |       9621|1.2681808332714253|\n",
      "|         Tesla |      11334| 2.408628892942137|\n",
      "|         Mazda |      19235|2.1048159388815213|\n",
      "|       Peugeot |      22572|1.6274781293851686|\n",
      "|           BMW |      22965|1.5253243958728175|\n",
      "|          Audi |      28691|1.8213180296107934|\n",
      "|    Mitsubishi |      29118| 2.404337010931026|\n",
      "|         Skoda |      36823|  2.30281377521228|\n",
      "|        Nissan |      47581|2.3293865130050153|\n",
      "|          Ford |      57763| 2.194746805697382|\n",
      "+---------------+-----------+------------------+\n",
      "only showing top 20 rows\n",
      "\n"
     ]
    }
   ],
   "source": [
    "salesByModel.groupBy('Make').agg(sum('Quantity').alias('SumQuantity'), avg('Pct').alias('AvgPct')).orderBy('SumQuantity').show()"
   ]
  },
  {
   "cell_type": "code",
   "execution_count": 35,
   "metadata": {
    "scrolled": true
   },
   "outputs": [
    {
     "name": "stdout",
     "output_type": "stream",
     "text": [
      "+----+-----+-----------+-----------------+--------+----+----+-----+-----------+-----------------+--------+----------------+\n",
      "|Year|Month|       Make|            Model|Quantity| Pct|Year|Month|       Make|            Model|Quantity|             Pct|\n",
      "+----+-----+-----------+-----------------+--------+----+----+-----+-----------+-----------------+--------+----------------+\n",
      "|2007|    1|Volkswagen |Volkswagen Passat|    1267|10.0|2017|    1|Volkswagen |Volkswagen Passat|     515|             3.9|\n",
      "|2007|    1|Volkswagen |Volkswagen Passat|    1267|10.0|2017|    1|Volkswagen |  Volkswagen Golf|     738|             5.7|\n",
      "|2007|    1|Volkswagen |Volkswagen Passat|    1267|10.0|2016|   12|Volkswagen |Volkswagen Passat|     299|             2.2|\n",
      "|2007|    1|Volkswagen |Volkswagen Passat|    1267|10.0|2016|   12|Volkswagen |Volkswagen Tiguan|     650|             4.8|\n",
      "|2007|    1|Volkswagen |Volkswagen Passat|    1267|10.0|2016|   12|Volkswagen |  Volkswagen Golf|     721|             5.3|\n",
      "|2007|    1|Volkswagen |Volkswagen Passat|    1267|10.0|2016|   11|Volkswagen |Volkswagen Passat|     316|             2.4|\n",
      "|2007|    1|Volkswagen |Volkswagen Passat|    1267|10.0|2016|   11|Volkswagen |Volkswagen Tiguan|     406|             3.1|\n",
      "|2007|    1|Volkswagen |Volkswagen Passat|    1267|10.0|2016|   11|Volkswagen |  Volkswagen Golf|     905|             6.9|\n",
      "|2007|    1|Volkswagen |Volkswagen Passat|    1267|10.0|2016|   10|Volkswagen |Volkswagen Tiguan|     419|             3.5|\n",
      "|2007|    1|Volkswagen |Volkswagen Passat|    1267|10.0|2016|   10|Volkswagen |Volkswagen Passat|     487|             4.1|\n",
      "|2007|    1|Volkswagen |Volkswagen Passat|    1267|10.0|2016|   10|Volkswagen |  Volkswagen Golf|     858|             7.2|\n",
      "|2007|    1|Volkswagen |Volkswagen Passat|    1267|10.0|2016|    9|Volkswagen |Volkswagen Passat|     314|             2.3|\n",
      "|2007|    1|Volkswagen |Volkswagen Passat|    1267|10.0|2016|    9|Volkswagen |Volkswagen Tiguan|     416|             3.0|\n",
      "|2007|    1|Volkswagen |Volkswagen Passat|    1267|10.0|2016|    9|Volkswagen |  Volkswagen Golf|     996|             7.2|\n",
      "|2007|    1|Volkswagen |Volkswagen Passat|    1267|10.0|2016|    8|Volkswagen |Volkswagen Tiguan|     331|             2.5|\n",
      "|2007|    1|Volkswagen |Volkswagen Passat|    1267|10.0|2016|    8|Volkswagen |Volkswagen Passat|     358|             2.7|\n",
      "|2007|    1|Volkswagen |Volkswagen Passat|    1267|10.0|2016|    8|Volkswagen |  Volkswagen Golf|    1214|             9.2|\n",
      "|2007|    1|Volkswagen |Volkswagen Passat|    1267|10.0|2016|    7|Volkswagen |  Volkswagen Polo|     145|1.31340579710145|\n",
      "|2007|    1|Volkswagen |Volkswagen Passat|    1267|10.0|2016|    7|Volkswagen |Volkswagen Tiguan|     305|2.76268115942029|\n",
      "|2007|    1|Volkswagen |Volkswagen Passat|    1267|10.0|2016|    7|Volkswagen |Volkswagen Passat|     444|4.02173913043478|\n",
      "+----+-----+-----------+-----------------+--------+----+----+-----+-----------+-----------------+--------+----------------+\n",
      "only showing top 20 rows\n",
      "\n"
     ]
    }
   ],
   "source": [
    "salesByModel.join(salesByMake, trim(salesByMake[\"Make\"]) == trim(salesByModel[\"Make\"])).show()"
   ]
  },
  {
   "cell_type": "code",
   "execution_count": 36,
   "metadata": {},
   "outputs": [
    {
     "data": {
      "text/plain": [
       "DataFrame[Year: int, Month: int, Make: string, Model: string, Quantity: int, Pct: double]"
      ]
     },
     "execution_count": 36,
     "metadata": {},
     "output_type": "execute_result"
    }
   ],
   "source": [
    "salesByMake"
   ]
  },
  {
   "cell_type": "code",
   "execution_count": 37,
   "metadata": {},
   "outputs": [
    {
     "data": {
      "text/plain": [
       "DataFrame[Year: int, Month: int, Make: string, Model: string, Quantity: int, Pct: double]"
      ]
     },
     "execution_count": 37,
     "metadata": {},
     "output_type": "execute_result"
    }
   ],
   "source": [
    "salesByModel"
   ]
  },
  {
   "cell_type": "code",
   "execution_count": 36,
   "metadata": {},
   "outputs": [
    {
     "name": "stdout",
     "output_type": "stream",
     "text": [
      "+----+-----+----+-----------+\n",
      "|Year|Month| Pct|       Make|\n",
      "+----+-----+----+-----------+\n",
      "|2017|    1|10.0|Volkswagen |\n",
      "|2017|    1|10.0|Volkswagen |\n",
      "|2016|   12|10.0|Volkswagen |\n",
      "|2016|   12|10.0|Volkswagen |\n",
      "|2016|   12|10.0|Volkswagen |\n",
      "+----+-----+----+-----------+\n",
      "only showing top 5 rows\n",
      "\n"
     ]
    }
   ],
   "source": [
    "salesByModel.join(salesByMake, \n",
    "                  trim(salesByMake[\"Make\"]) == trim(salesByModel[\"Make\"]), \n",
    "                  how = \"inner\") \\\n",
    "            .select(salesByMake[\"Year\"], \n",
    "                    salesByMake.Month, \n",
    "                    salesByModel[\"Pct\"], \n",
    "                    salesByModel.Make) \\\n",
    "            .show(5)"
   ]
  },
  {
   "cell_type": "code",
   "execution_count": 37,
   "metadata": {},
   "outputs": [
    {
     "name": "stdout",
     "output_type": "stream",
     "text": [
      "+----+-----+------+------------+--------+-----------------+---+\n",
      "|Year|Month|  Make|       Model|Quantity|              Pct|Sum|\n",
      "+----+-----+------+------------+--------+-----------------+---+\n",
      "|2015|    3|Skoda |Skoda Superb|      55|0.388445511688679| 55|\n",
      "|2015|    4|Skoda |Skoda Superb|      61| 0.47723360976373|116|\n",
      "|2016|    1|Skoda | Skoda Fabia|      63|0.573196251478482|179|\n",
      "|2016|    2|Skoda | Skoda Fabia|      71|0.580919653084602|250|\n",
      "+----+-----+------+------------+--------+-----------------+---+\n",
      "only showing top 4 rows\n",
      "\n"
     ]
    }
   ],
   "source": [
    "from pyspark.sql.window import Window\n",
    "\n",
    "Parition_Param = Window().partitionBy(col('Make')).orderBy('Pct')\n",
    "\n",
    "salesByModel.withColumn('Sum',sum('Quantity').over(Parition_Param)).show(4)"
   ]
  },
  {
   "cell_type": "code",
   "execution_count": 38,
   "metadata": {},
   "outputs": [],
   "source": [
    "df = salesByModel.withColumn('Sum',sum('Quantity').over(Parition_Param))"
   ]
  }
 ],
 "metadata": {
  "kernelspec": {
   "display_name": "Python 3",
   "language": "python",
   "name": "python3"
  },
  "language_info": {
   "codemirror_mode": {
    "name": "ipython",
    "version": 3
   },
   "file_extension": ".py",
   "mimetype": "text/x-python",
   "name": "python",
   "nbconvert_exporter": "python",
   "pygments_lexer": "ipython3",
   "version": "3.6.5"
  }
 },
 "nbformat": 4,
 "nbformat_minor": 2
}
